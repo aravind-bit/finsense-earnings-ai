{
 "cells": [
  {
   "cell_type": "code",
   "execution_count": 7,
   "id": "71ef43b4-3821-47fb-b530-8764c7c13f50",
   "metadata": {},
   "outputs": [
    {
     "name": "stdout",
     "output_type": "stream",
     "text": [
      "Repo root on sys.path: /Users/aravindanisetti/Desktop/2025 Training/Projects/finsense-earnings-ai\n",
      "Top of sys.path: /Users/aravindanisetti/Desktop/2025 Training/Projects/finsense-earnings-ai\n"
     ]
    }
   ],
   "source": [
    "# Ensure Python can import \"src.finsense.*\" by adding the REPO ROOT to sys.path\n",
    "from pathlib import Path\n",
    "import sys\n",
    "\n",
    "# Notebook is in <repo>/notebooks, so repo root is one level up\n",
    "REPO_ROOT = Path.cwd().parents[0].resolve()  # .../finsense-earnings-ai\n",
    "if str(REPO_ROOT) not in sys.path:\n",
    "    sys.path.insert(0, str(REPO_ROOT))\n",
    "\n",
    "print(\"Repo root on sys.path:\", REPO_ROOT)\n",
    "print(\"Top of sys.path:\", sys.path[0])"
   ]
  },
  {
   "cell_type": "code",
   "execution_count": 8,
   "id": "e71d2abb-e96a-4b9a-aa24-4db91a83c08d",
   "metadata": {},
   "outputs": [
    {
     "data": {
      "text/plain": [
       "(AppConfig(project_name='FinSense', default_source='manual_drop', parse=ParseConfig(assume_timezone='US/Eastern', detect_qa_markers=True, speaker_line_regex='^(Operator|Q&A|Question-and-Answer Session|[A-Z][A-Z .,&()/-]{2,}):\\\\s*'), output=OutputConfig(parquet_path='data/processed/transcripts.parquet')),\n",
       " PosixPath('/Users/aravindanisetti/Desktop/2025 Training/Projects/finsense-earnings-ai/data/raw'),\n",
       " PosixPath('/Users/aravindanisetti/Desktop/2025 Training/Projects/finsense-earnings-ai/data/processed'),\n",
       " PosixPath('/Users/aravindanisetti/Desktop/2025 Training/Projects/finsense-earnings-ai'))"
      ]
     },
     "execution_count": 8,
     "metadata": {},
     "output_type": "execute_result"
    }
   ],
   "source": [
    "from src.finsense.config import load_config\n",
    "from src.finsense.paths import RAW, PROCESSED, ROOT\n",
    "\n",
    "cfg = load_config()\n",
    "cfg, RAW, PROCESSED, ROOT"
   ]
  },
  {
   "cell_type": "code",
   "execution_count": 1,
   "id": "a66f1905-8ad4-4fff-bf2f-4590d1f859cc",
   "metadata": {},
   "outputs": [
    {
     "name": "stdout",
     "output_type": "stream",
     "text": [
      "CWD: /Users/aravindanisetti/Desktop/2025 Training/Projects/finsense-earnings-ai/notebooks\n",
      "Has repo root on sys.path? True\n",
      "Has src on sys.path? True\n"
     ]
    }
   ],
   "source": [
    "import sys, os\n",
    "from pathlib import Path\n",
    "print(\"CWD:\", os.getcwd())\n",
    "print(\"Has repo root on sys.path?\", any(Path(p).resolve().name==\"finsense-earnings-ai\" for p in sys.path))\n",
    "print(\"Has src on sys.path?\", any(Path(p).resolve().name==\"src\" for p in sys.path))"
   ]
  },
  {
   "cell_type": "code",
   "execution_count": 6,
   "id": "d4446dc8-7b01-4fc9-a17b-f187916a0c32",
   "metadata": {},
   "outputs": [
    {
     "name": "stdout",
     "output_type": "stream",
     "text": [
      "repo_root: /Users/aravindanisetti/Desktop/2025 Training/Projects/finsense-earnings-ai\n"
     ]
    },
    {
     "ename": "ModuleNotFoundError",
     "evalue": "No module named 'src'",
     "output_type": "error",
     "traceback": [
      "\u001b[31m---------------------------------------------------------------------------\u001b[39m",
      "\u001b[31mModuleNotFoundError\u001b[39m                       Traceback (most recent call last)",
      "\u001b[36mCell\u001b[39m\u001b[36m \u001b[39m\u001b[32mIn[6]\u001b[39m\u001b[32m, line 18\u001b[39m\n\u001b[32m     15\u001b[39m repo_root = add_src_above_here(\u001b[33m\"\u001b[39m\u001b[33msrc\u001b[39m\u001b[33m\"\u001b[39m)\n\u001b[32m     16\u001b[39m \u001b[38;5;28mprint\u001b[39m(\u001b[33m\"\u001b[39m\u001b[33mrepo_root:\u001b[39m\u001b[33m\"\u001b[39m, repo_root)\n\u001b[32m---> \u001b[39m\u001b[32m18\u001b[39m \u001b[38;5;28;01mfrom\u001b[39;00m\u001b[38;5;250m \u001b[39m\u001b[34;01msrc\u001b[39;00m\u001b[34;01m.\u001b[39;00m\u001b[34;01mfinsense\u001b[39;00m\u001b[34;01m.\u001b[39;00m\u001b[34;01mconfig\u001b[39;00m\u001b[38;5;250m \u001b[39m\u001b[38;5;28;01mimport\u001b[39;00m load_config\n\u001b[32m     19\u001b[39m \u001b[38;5;28;01mfrom\u001b[39;00m\u001b[38;5;250m \u001b[39m\u001b[34;01msrc\u001b[39;00m\u001b[34;01m.\u001b[39;00m\u001b[34;01mfinsense\u001b[39;00m\u001b[34;01m.\u001b[39;00m\u001b[34;01mpaths\u001b[39;00m\u001b[38;5;250m \u001b[39m\u001b[38;5;28;01mimport\u001b[39;00m RAW, PROCESSED, ROOT\n\u001b[32m     20\u001b[39m cfg = load_config()\n",
      "\u001b[31mModuleNotFoundError\u001b[39m: No module named 'src'"
     ]
    }
   ],
   "source": [
    "# one-shot robust import bootstrap\n",
    "import sys\n",
    "from pathlib import Path\n",
    "\n",
    "def add_src_above_here(marker=\"src\"):\n",
    "    here = Path.cwd().resolve()\n",
    "    for parent in [here, *here.parents]:\n",
    "        sp = parent / marker\n",
    "        if sp.is_dir():\n",
    "            if str(sp) not in sys.path:\n",
    "                sys.path.insert(0, str(sp))\n",
    "            return parent\n",
    "    return None\n",
    "\n",
    "repo_root = add_src_above_here(\"src\")\n",
    "print(\"repo_root:\", repo_root)\n",
    "\n",
    "from src.finsense.config import load_config\n",
    "from src.finsense.paths import RAW, PROCESSED, ROOT\n",
    "cfg = load_config()\n",
    "cfg, RAW, PROCESSED, ROOT\n"
   ]
  },
  {
   "cell_type": "code",
   "execution_count": null,
   "id": "fc773774-183b-4ddf-a382-37a14573f2ed",
   "metadata": {},
   "outputs": [],
   "source": []
  }
 ],
 "metadata": {
  "kernelspec": {
   "display_name": "Python 3.11 (finsense)",
   "language": "python",
   "name": "finsense-311"
  },
  "language_info": {
   "codemirror_mode": {
    "name": "ipython",
    "version": 3
   },
   "file_extension": ".py",
   "mimetype": "text/x-python",
   "name": "python",
   "nbconvert_exporter": "python",
   "pygments_lexer": "ipython3",
   "version": "3.11.14"
  }
 },
 "nbformat": 4,
 "nbformat_minor": 5
}
